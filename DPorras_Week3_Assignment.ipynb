{
 "cells": [
  {
   "cell_type": "markdown",
   "id": "52effa6e-878c-452f-b6f5-0a4b88fa84dd",
   "metadata": {},
   "source": [
    "Daniela Porras \n",
    "Week 3 Assignment: Tracking Bicycle Miles with Pandas"
   ]
  },
  {
   "cell_type": "markdown",
   "id": "4a955cd5-3849-4302-8bb4-ad002a0660b5",
   "metadata": {},
   "source": [
    "1. Importing pandas"
   ]
  },
  {
   "cell_type": "code",
   "execution_count": 2,
   "id": "b75c91d1-84b3-4066-94bc-39dcd31fc7ac",
   "metadata": {},
   "outputs": [],
   "source": [
    "import pandas as pd"
   ]
  },
  {
   "cell_type": "markdown",
   "id": "c67ae9f9-db50-4a66-90f5-c95d2f781517",
   "metadata": {},
   "source": [
    "2. Creating the Cumulative Miles Series"
   ]
  },
  {
   "cell_type": "code",
   "execution_count": 3,
   "id": "9a918d48-f4b8-4459-946b-0de5a79cb17b",
   "metadata": {},
   "outputs": [
    {
     "name": "stdout",
     "output_type": "stream",
     "text": [
      "Cumulative Miles at the End of Each Day:\n",
      "0     55\n",
      "1    120\n",
      "2    190\n",
      "3    270\n",
      "4    350\n",
      "5    450\n",
      "6    550\n",
      "dtype: int64\n"
     ]
    }
   ],
   "source": [
    "# Creating a pandas series for cumulative miles\n",
    "cumulative_miles = pd.Series([55, 120, 190, 270, 350, 450, 550])\n",
    "\n",
    "#Displaying the cumulative miles\n",
    "print(\"Cumulative Miles at the End of Each Day:\")\n",
    "print(cumulative_miles)"
   ]
  },
  {
   "cell_type": "markdown",
   "id": "b4005c39-3302-455e-bfac-afe035cfbc79",
   "metadata": {},
   "source": [
    "3. Calculating Daily Miles Ridden"
   ]
  },
  {
   "cell_type": "code",
   "execution_count": 6,
   "id": "28581ac8-ff6d-4c3e-b8ce-e0ea129bb762",
   "metadata": {},
   "outputs": [
    {
     "name": "stdout",
     "output_type": "stream",
     "text": [
      "\n",
      "Miles Ridden Each Day:\n",
      "0     55.0\n",
      "1     65.0\n",
      "2     70.0\n",
      "3     80.0\n",
      "4     80.0\n",
      "5    100.0\n",
      "6    100.0\n",
      "dtype: float64\n"
     ]
    }
   ],
   "source": [
    "# Calculating daily miles ridden\n",
    "daily_miles = cumulative_miles.diff().fillna(cumulative_miles.iloc[0])\n",
    "\n",
    "# Displaying the daily miles ridden\n",
    "print(\"\\nMiles Ridden Each Day:\")\n",
    "print(daily_miles)"
   ]
  },
  {
   "cell_type": "markdown",
   "id": "af4f19e5-a7a8-4660-9219-d21c8395f49d",
   "metadata": {},
   "source": [
    "4. Creating a DataFrame for Better Presentation"
   ]
  },
  {
   "cell_type": "code",
   "execution_count": 9,
   "id": "c15a7f82-f1d2-4cba-b91f-2ab471aed88f",
   "metadata": {},
   "outputs": [
    {
     "data": {
      "text/html": [
       "<div>\n",
       "<style scoped>\n",
       "    .dataframe tbody tr th:only-of-type {\n",
       "        vertical-align: middle;\n",
       "    }\n",
       "\n",
       "    .dataframe tbody tr th {\n",
       "        vertical-align: top;\n",
       "    }\n",
       "\n",
       "    .dataframe thead th {\n",
       "        text-align: right;\n",
       "    }\n",
       "</style>\n",
       "<table border=\"1\" class=\"dataframe\">\n",
       "  <thead>\n",
       "    <tr style=\"text-align: right;\">\n",
       "      <th></th>\n",
       "      <th>Day</th>\n",
       "      <th>Cumulative Miles</th>\n",
       "      <th>Miles Ridden</th>\n",
       "    </tr>\n",
       "  </thead>\n",
       "  <tbody>\n",
       "    <tr>\n",
       "      <th>0</th>\n",
       "      <td>1</td>\n",
       "      <td>55</td>\n",
       "      <td>55.0</td>\n",
       "    </tr>\n",
       "    <tr>\n",
       "      <th>1</th>\n",
       "      <td>2</td>\n",
       "      <td>120</td>\n",
       "      <td>65.0</td>\n",
       "    </tr>\n",
       "    <tr>\n",
       "      <th>2</th>\n",
       "      <td>3</td>\n",
       "      <td>190</td>\n",
       "      <td>70.0</td>\n",
       "    </tr>\n",
       "    <tr>\n",
       "      <th>3</th>\n",
       "      <td>4</td>\n",
       "      <td>270</td>\n",
       "      <td>80.0</td>\n",
       "    </tr>\n",
       "    <tr>\n",
       "      <th>4</th>\n",
       "      <td>5</td>\n",
       "      <td>350</td>\n",
       "      <td>80.0</td>\n",
       "    </tr>\n",
       "    <tr>\n",
       "      <th>5</th>\n",
       "      <td>6</td>\n",
       "      <td>450</td>\n",
       "      <td>100.0</td>\n",
       "    </tr>\n",
       "    <tr>\n",
       "      <th>6</th>\n",
       "      <td>7</td>\n",
       "      <td>550</td>\n",
       "      <td>100.0</td>\n",
       "    </tr>\n",
       "  </tbody>\n",
       "</table>\n",
       "</div>"
      ],
      "text/plain": [
       "   Day  Cumulative Miles  Miles Ridden\n",
       "0    1                55          55.0\n",
       "1    2               120          65.0\n",
       "2    3               190          70.0\n",
       "3    4               270          80.0\n",
       "4    5               350          80.0\n",
       "5    6               450         100.0\n",
       "6    7               550         100.0"
      ]
     },
     "metadata": {},
     "output_type": "display_data"
    }
   ],
   "source": [
    "# Creating a DataFrame for a clearer presentation\n",
    "bike_data = pd.DataFrame({\n",
    "    \"Day\": range(1, len(cumulative_miles) + 1),\n",
    "    \"Cumulative Miles\": cumulative_miles,\n",
    "    \"Miles Ridden\": daily_miles\n",
    "})\n",
    "\n",
    "# Displaying the DataFrame\n",
    "from IPython.display import display\n",
    "\n",
    "display(bike_data)"
   ]
  },
  {
   "cell_type": "code",
   "execution_count": null,
   "id": "0151bcd3-2134-4f18-aac1-8b1c85858981",
   "metadata": {},
   "outputs": [],
   "source": []
  }
 ],
 "metadata": {
  "kernelspec": {
   "display_name": "Python 3",
   "language": "python",
   "name": "python3"
  },
  "language_info": {
   "codemirror_mode": {
    "name": "ipython",
    "version": 3
   },
   "file_extension": ".py",
   "mimetype": "text/x-python",
   "name": "python",
   "nbconvert_exporter": "python",
   "pygments_lexer": "ipython3",
   "version": "3.12.4"
  }
 },
 "nbformat": 4,
 "nbformat_minor": 5
}
